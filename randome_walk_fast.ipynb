{
 "cells": [
  {
   "cell_type": "code",
   "execution_count": null,
   "metadata": {
    "scrolled": false
   },
   "outputs": [],
   "source": [
    "import numpy as np\n",
    "%matplotlib inline\n",
    "import matplotlib.pyplot as plt\n",
    "from matplotlib.collections import LineCollection\n",
    "\n",
    "# Data manipulation:\n",
    "\n",
    "def make_segments(x, y):\n",
    "    \n",
    "    points = np.array([x, y]).T.reshape(-1, 1, 2)\n",
    "    segments = np.concatenate([points[:-1], points[1:]], axis=1)\n",
    "    \n",
    "    return segments\n",
    "\n",
    "\n",
    "# Interface to LineCollection:\n",
    "\n",
    "def colorline(x, y,col, linewidth=1.3):\n",
    "      \n",
    "      \n",
    "    segments = make_segments(x, y)\n",
    "    lc = LineCollection(segments,colors=col,  linewidth=linewidth)\n",
    "    \n",
    "    ax = plt.gca()\n",
    "    ax.add_collection(lc)"
   ]
  },
  {
   "cell_type": "code",
   "execution_count": null,
   "metadata": {
    "scrolled": false
   },
   "outputs": [],
   "source": [
    "# Define parameters for the walk\n",
    "step_n = 1000\n",
    "walks_n = 100\n",
    "grading_factor = np.linspace(1.0, 0, step_n)\n",
    "\n",
    "\n",
    "# Simulate steps in 2D\n",
    "steps_x=[0]\n",
    "steps_y=[0]\n",
    "\n",
    "\n",
    "fig, ax = plt.subplots()\n",
    "fig.set_size_inches(15, 15)\n",
    "plt.tight_layout(pad=0)\n",
    "plt.title('2D Random Walk')\n",
    "\n",
    "x_mins=[]\n",
    "x_maxs=[]\n",
    "y_mins=[]\n",
    "y_maxs=[]\n",
    "\n",
    "for j in range(walks_n):\n",
    "    #print(j)\n",
    "    random_color=np.random.rand(3,)\n",
    "    grading_color=[]\n",
    "    for o in range(len(grading_factor)):\n",
    "        loop_c=tuple(np.append(random_color,grading_factor[o]))\n",
    "        grading_color.append(loop_c)\n",
    "    \n",
    "    for i in range(1,step_n+1):\n",
    "            steps_xi=np.random.uniform((steps_x[i-1]-1),(steps_x[i-1]+1))\n",
    "            steps_yi=np.random.uniform((steps_y[i-1]-1),(steps_y[i-1]+1)) \n",
    "            steps_x.append(steps_xi)\n",
    "            steps_y.append(steps_yi)\n",
    "    \n",
    "    x_mins.append(min(steps_x))\n",
    "    x_maxs.append(max(steps_x))\n",
    "    y_mins.append(min(steps_y))\n",
    "    y_maxs.append(max(steps_y))\n",
    "    \n",
    "    #set axis limits\n",
    "    ax.set_xlim(min(x_mins)-10, max(x_maxs)+10)\n",
    "    ax.set_ylim(min(y_mins)-10, max(y_maxs)+10)\n",
    "      \n",
    "    colorline(steps_x, steps_y, grading_color)        \n",
    "        \n",
    "    del steps_x[1:]\n",
    "    del steps_y[1:]\n",
    "\n",
    "\n",
    "ax.xaxis.set_visible(False) \n",
    "ax.yaxis.set_visible(False)\n",
    "plt.show()"
   ]
  },
  {
   "cell_type": "code",
   "execution_count": null,
   "metadata": {},
   "outputs": [],
   "source": []
  },
  {
   "cell_type": "code",
   "execution_count": null,
   "metadata": {},
   "outputs": [],
   "source": []
  }
 ],
 "metadata": {
  "kernelspec": {
   "display_name": "Python 3",
   "language": "python",
   "name": "python3"
  },
  "language_info": {
   "codemirror_mode": {
    "name": "ipython",
    "version": 3
   },
   "file_extension": ".py",
   "mimetype": "text/x-python",
   "name": "python",
   "nbconvert_exporter": "python",
   "pygments_lexer": "ipython3",
   "version": "3.7.6"
  }
 },
 "nbformat": 4,
 "nbformat_minor": 4
}
