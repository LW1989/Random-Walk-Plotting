{
 "cells": [
  {
   "cell_type": "markdown",
   "metadata": {},
   "source": [
    "Randmow walk plotting\n"
   ]
  },
  {
   "cell_type": "code",
   "execution_count": null,
   "metadata": {
    "scrolled": false
   },
   "outputs": [],
   "source": [
    "import numpy as np\n",
    "%matplotlib inline\n",
    "import matplotlib.pyplot as plt\n",
    "\n",
    "\n",
    "# Define parameters for the walk\n",
    "step_n = 1000\n",
    "walks_n = 100\n",
    "\n",
    "\n",
    "# Simulate steps in 2D\n",
    "steps_x=[0]\n",
    "steps_y=[0]\n",
    "fig = plt.figure(figsize=(8,8),dpi=200)\n",
    "plt.tight_layout(pad=0)\n",
    "plt.title('2D Random Walk')\n",
    "for j in range(walks_n):\n",
    "    #print(j)\n",
    "    random_color=np.random.rand(3,)\n",
    "    for i in range(1,step_n+1):\n",
    "            steps_xi=np.random.uniform((steps_x[i-1]-1),(steps_x[i-1]+1))\n",
    "            steps_yi=np.random.uniform((steps_y[i-1]-1),(steps_y[i-1]+1)) \n",
    "            steps_x.append(steps_xi)\n",
    "            steps_y.append(steps_yi)\n",
    "            \n",
    "            \n",
    "    for k in range(step_n-1):\n",
    "        grading_factor=1/(step_n-1)\n",
    "        plt.plot(steps_x[k:k+2],steps_y[k:k+2], alpha=1-grading_factor*k, linewidth=0.3, color=random_color)\n",
    "    \n",
    "    del steps_x[1:]\n",
    "    del steps_y[1:]\n",
    "    \n",
    "plt.show()"
   ]
  },
  {
   "cell_type": "code",
   "execution_count": null,
   "metadata": {},
   "outputs": [],
   "source": []
  },
  {
   "cell_type": "code",
   "execution_count": null,
   "metadata": {},
   "outputs": [],
   "source": []
  },
  {
   "cell_type": "code",
   "execution_count": null,
   "metadata": {},
   "outputs": [],
   "source": []
  },
  {
   "cell_type": "code",
   "execution_count": null,
   "metadata": {},
   "outputs": [],
   "source": []
  },
  {
   "cell_type": "code",
   "execution_count": null,
   "metadata": {},
   "outputs": [],
   "source": []
  }
 ],
 "metadata": {
  "kernelspec": {
   "display_name": "Python 3",
   "language": "python",
   "name": "python3"
  },
  "language_info": {
   "codemirror_mode": {
    "name": "ipython",
    "version": 3
   },
   "file_extension": ".py",
   "mimetype": "text/x-python",
   "name": "python",
   "nbconvert_exporter": "python",
   "pygments_lexer": "ipython3",
   "version": "3.7.6"
  }
 },
 "nbformat": 4,
 "nbformat_minor": 4
}
